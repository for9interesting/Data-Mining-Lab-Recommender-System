{
  "cells": [
    {
      "cell_type": "markdown",
      "metadata": {
        "id": "VbE7vCfXVzaP"
      },
      "source": [
        "### **For this assignment the only permitted libraries to use are Numpy, Scipy, MatplotLib and Pandas! Use of generative AI is not allowed.**"
      ]
    },
    {
      "cell_type": "code",
      "execution_count": 1,
      "metadata": {
        "id": "z_fqGIrhUV4O"
      },
      "outputs": [],
      "source": [
        "import numpy as np\n",
        "import matplotlib.pyplot as plt\n",
        "from matplotlib import cm"
      ]
    },
    {
      "cell_type": "markdown",
      "metadata": {
        "id": "urGrRsg9WOOM"
      },
      "source": [
        "## Data loading"
      ]
    },
    {
      "cell_type": "code",
      "execution_count": 3,
      "metadata": {
        "id": "ipRlBnoyUqWO"
      },
      "outputs": [],
      "source": [
        "# Unzip train_data.npy, test_data.npy, val_data.npy\n",
        "# !unzip all_data.zip\n",
        "\n",
        "# Load the data\n",
        "train_data = np.load('all_data/train_data.npy')\n",
        "test_data = np.load('all_data/test_data.npy')\n",
        "val_data = np.load('all_data/val_data.npy')"
      ]
    },
    {
      "cell_type": "code",
      "execution_count": 4,
      "metadata": {
        "colab": {
          "base_uri": "https://localhost:8080/",
          "height": 435
        },
        "id": "9tNSavAhUwMN",
        "outputId": "a719ce94-1a57-4825-8823-b59e04e54061"
      },
      "outputs": [
        {
          "data": {
            "image/png": "[encoded data removed]",
            "text/plain": [
              "<Figure size 640x480 with 1 Axes>"
            ]
          },
          "metadata": {},
          "output_type": "display_data"
        }
      ],
      "source": [
        "# Visualize the [user x user] arrays\n",
        "cmap = cm.jet\n",
        "cmap.set_bad('white',1.)\n",
        "\n",
        "masked_array_train = np.ma.array(train_data, mask=np.isnan(train_data))\n",
        "plt.imshow(masked_array_train, interpolation='nearest', cmap=cmap)\n",
        "plt.pause(0.1)"
      ]
    },
    {
      "cell_type": "code",
      "execution_count": null,
      "metadata": {
        "id": "D78CQHvSX1RQ"
      },
      "outputs": [],
      "source": [
        "# Further visualizations to justify your answers to the familiarization questions below"
      ]
    },
    {
      "cell_type": "markdown",
      "metadata": {
        "id": "FANz6-vJLKqF"
      },
      "source": [
        "**Familiarization questions**\n",
        "\n",
        "1.\tWhat properties of the data do you think are important for your pipeline design? Think of the data sparsity and distribution of labels.\n",
        "\n",
        "2.\tWhat are some sources of sparsity in the data?\n",
        "\n",
        "3.\tDo you see different types of people (in terms of both which id pairs are present and what they liked/didn’t like)?"
      ]
    },
    {
      "cell_type": "markdown",
      "metadata": {
        "id": "hoRzcMOXY_R9"
      },
      "source": [
        "## WebLab solutions"
      ]
    },
    {
      "cell_type": "code",
      "execution_count": null,
      "metadata": {
        "id": "VBjyU2z3Wu8X"
      },
      "outputs": [],
      "source": [
        "# Solution: NMF routine (for unit test on weblab)\n",
        "\n",
        "def nmf(X, n_components: int, max_iter: int=1000, tol: float=1e-3):\n",
        "  \"\"\"\n",
        "  Decomposes the original sparse matrix X into two matrices W and H. \n",
        "  \"\"\"\n",
        "  # Initialize W and H with random non-negative values\n",
        "  W = np.random.rand(X.shape[0], n_components)\n",
        "  H = np.random.rand(n_components, X.shape[1])\n",
        "\n",
        "  for _ in range (max_iter):\n",
        "    WH = np.dot(W, H)\n",
        "    N = np.dot(W.T, X)\n",
        "    D = np.dot(W.T, WH) + 1e-9\n",
        "    H *= N / D\n",
        "\n",
        "    WH = np.dot(W, H)\n",
        "    N = np.dot(X, H.T)\n",
        "    D = np.dot(WH, H.T) + 1e-9\n",
        "    W *= N / D\n",
        "\n",
        "    error = np.sum((X.to_numpy() - np.dot(W, H)) ** 2)\n",
        "\n",
        "    if error < tol:\n",
        "      break\n",
        "\n",
        "  return W, H"
      ]
    },
    {
      "cell_type": "code",
      "execution_count": null,
      "metadata": {
        "id": "xqt3ioz2YZiI"
      },
      "outputs": [],
      "source": [
        "# Solution: Min-hashing routine (for unit test on weblab)\n",
        "import sys\n",
        "\n",
        "class HashFunction:\n",
        "    \"\"\"\n",
        "    This HashFunction class can be used to create an unique hash given an alpha and beta.\n",
        "    \"\"\"\n",
        "    def __init__(self, alpha, beta):\n",
        "        self.alpha = alpha\n",
        "        self.beta = beta\n",
        "\n",
        "    def hashf(self, x, n):\n",
        "        \"\"\"\n",
        "        Returns a hash given integers x and n.\n",
        "        :param x: The value to be hashed\n",
        "        :param n: The number of unique ids of all sets\n",
        "        :return: The hashed value x given alpha and beta\n",
        "        \"\"\"\n",
        "        \n",
        "        hash_value = 0\n",
        "        hash_value =  (self.alpha * x + self.beta) % n\n",
        "        return hash_value\n",
        "    \n",
        "\n",
        "def compute_signature(hashes: list[HashFunction], ids: list[set[int]]):\n",
        "    \"\"\"\n",
        "    This function will calculate the MinHash signature matrix from our sets of ids\n",
        "    using the list of hash functions (hashes)\n",
        "    :param hashes: The list of hash functions of arbitrary length\n",
        "    :param ids: The list of sets of ids\n",
        "    :return: The MinHash signature matrix for the given sets of ids\n",
        "    \"\"\"\n",
        "    \n",
        "    result = np.full((len(hashes), len(ids)), sys.maxsize)\n",
        "    space = set().union(*ids)\n",
        "    sorted_space = sorted(space)\n",
        "    \n",
        "    N = len(space)\n",
        "    mat = [[id_value in id_ for id_ in ids] for id_value in sorted_space]\n",
        "    for r in range(len(mat)):\n",
        "        hash_r = [hashf.hashf(r, N) for hashf in hashes]\n",
        "        for c in range(len(mat[r])):\n",
        "            if mat[r][c]:\n",
        "                for i in range(len(hashes)):\n",
        "                    result[i][c] = min(result[i][c], hash_r[i])\n",
        "                \n",
        "    return result"
      ]
    },
    {
      "cell_type": "markdown",
      "metadata": {
        "id": "OXhnRoeIZCkh"
      },
      "source": [
        "## NMF-based recommender system"
      ]
    },
    {
      "cell_type": "code",
      "execution_count": null,
      "metadata": {
        "id": "sUvhBxg_XENM"
      },
      "outputs": [],
      "source": [
        "# Step 1: NMF routine which can handle NaNs! (for the 'real data' NMF recommender system task)\n",
        "\n",
        "def nmf_nan(X, n_components: int, max_iter: int=1000, tol: float=1e-3):\n",
        "    \"\"\"\n",
        "    Computes NMF of matrix X which includes 'unknown' NaN values.\n",
        "    \"\"\"\n",
        "\n",
        "    # [Your solution]\n",
        "\n",
        "    return W, H, reconstruction_error"
      ]
    },
    {
      "cell_type": "code",
      "execution_count": null,
      "metadata": {
        "id": "ul75kGUzX8yo"
      },
      "outputs": [],
      "source": [
        "# Step 2: Fit train data\n",
        "\n",
        "np.random.seed(5)\n",
        "list_components = np.array([5,10,20,50,100])\n",
        "\n",
        "# Compute nmf_nan() using the n_components in list_components, and following the instructions in the assignment pdf.\n",
        "\n",
        "\n",
        "# Plot the final reconstruction error as a function of n_components"
      ]
    },
    {
      "cell_type": "code",
      "execution_count": null,
      "metadata": {
        "id": "69dBvlJhYpio"
      },
      "outputs": [],
      "source": [
        "# Step 3: Get training accuracies\n",
        "\n",
        "# Declare some list of thresholds to try: list_thr...\n",
        "\n",
        "for c in range(len(list_components)):\n",
        "\n",
        "    for t in range(len(list_thr)):\n",
        "\n",
        "        # Compute training accuracy"
      ]
    },
    {
      "cell_type": "code",
      "execution_count": null,
      "metadata": {
        "id": "oJCdJLbofPWL"
      },
      "outputs": [],
      "source": [
        "# Step 4: Get validation accuracies\n",
        "# This is where we fit the n_components and the threshold\n",
        "\n",
        "for c in range(len(list_components)):\n",
        "\n",
        "    for t in range(len(list_thr)):\n",
        "\n",
        "        # Compute validation accuracy"
      ]
    },
    {
      "cell_type": "code",
      "execution_count": null,
      "metadata": {
        "id": "PBymyPBkiVdu"
      },
      "outputs": [],
      "source": [
        "# Step 5: Get the final test accuracy\n",
        "# We use the n_components and the threshold we fit on the validation set\n",
        "\n",
        "# Compute test accuracy\n",
        "\n",
        "print(f\"Test accuracy: {test_accuracy:g}%, thr: {thr:g}, n_components: {comp}\")"
      ]
    },
    {
      "cell_type": "markdown",
      "metadata": {
        "id": "nyJOHH_4a0e7"
      },
      "source": [
        "## Distance-based recommender system"
      ]
    },
    {
      "cell_type": "code",
      "execution_count": null,
      "metadata": {
        "id": "zUZDXsFfa6Sv"
      },
      "outputs": [],
      "source": [
        "# Use min-hashing on the rows and find the nearest neighbors using Jaccard distance\n",
        "\n",
        "# Use min-hashing on the columns and find the nearest neighbors using Jaccard distance"
      ]
    },
    {
      "cell_type": "code",
      "execution_count": null,
      "metadata": {
        "id": "n8U9NTw4bdg7"
      },
      "outputs": [],
      "source": [
        "# Aggregate the user-user and item-item nearest neighbor information to estimate recommendations\n",
        "\n"
      ]
    },
    {
      "cell_type": "code",
      "execution_count": 5,
      "metadata": {
        "id": "xY_wHH5xbw1W"
      },
      "outputs": [],
      "source": [
        "# Cross-validate on the validation data: number of hash functions and number of neighbors\n",
        "# (As we did for NMF above, for the n_components and the threshold.)"
      ]
    },
    {
      "cell_type": "code",
      "execution_count": null,
      "metadata": {
        "id": "xdluXorTbzZ1"
      },
      "outputs": [],
      "source": [
        "# Report recommendation accuracy on the independent test data"
      ]
    }
  ],
  "metadata": {
    "colab": {
      "provenance": []
    },
    "kernelspec": {
      "display_name": "Python 3",
      "name": "python3"
    },
    "language_info": {
      "codemirror_mode": {
        "name": "ipython",
        "version": 3
      },
      "file_extension": ".py",
      "mimetype": "text/x-python",
      "name": "python",
      "nbconvert_exporter": "python",
      "pygments_lexer": "ipython3",
      "version": "3.10.6"
    }
  },
  "nbformat": 4,
  "nbformat_minor": 0
}
